{
 "cells": [
  {
   "cell_type": "markdown",
   "id": "461ae873-fce5-44b9-a576-297a4865fc13",
   "metadata": {},
   "source": [
    "Clean Dataset"
   ]
  },
  {
   "cell_type": "code",
   "execution_count": 119,
   "id": "b1e6a2ab-f234-442d-a123-4db6308c2dcf",
   "metadata": {},
   "outputs": [],
   "source": [
    "import pandas as pd\n",
    "data = pd.read_csv(\"sleepdata.csv\", delimiter = \";\", header = 0)\n",
    "\n",
    "# Remove unwanted col\n",
    "col_drop = ['Mood', 'Heart rate (bpm)', 'Alarm mode', 'Air Pressure (Pa)', 'Window start', 'Window stop', 'Weather type', 'Notes']\n",
    "data.drop(columns=col_drop, inplace=True)\n",
    "\n",
    "#Cleaning Data to fit analysis using unit and type conversion\n",
    "data = data[data['Time in bed (seconds)'] >= 15000]\n",
    "data['Sleep Quality'] = data['Sleep Quality'].str.rstrip('%').astype('float') / 100\n",
    "data['Regularity'] = data['Regularity'].str.rstrip('%').astype('float') / 100\n",
    "data['Time in bed (seconds)'] = data['Time in bed (seconds)'] / 3600\n",
    "data['Time asleep (seconds)'] = data['Time asleep (seconds)'] / 3600\n",
    "data['Time before sleep (seconds)'] = data['Time before sleep (seconds)'] / 60\n",
    "data['Snore time'] = data['Snore time'] / 60\n",
    "\n",
    "new_column_names = {\n",
    "    'Time in bed (seconds)': 'Time in bed (hrs)',\n",
    "    'Time asleep (seconds)': 'Time asleep (hrs)',\n",
    "    'Time before sleep (seconds)': 'Time before sleep (mins)',\n",
    "    'Snore time': 'Snore time (mins)'\n",
    "}\n",
    "data.rename(columns=new_column_names, inplace=True)\n",
    "\n",
    "#Cleaning data by rounding/changing data type and filling missing values\n",
    "data['Time before sleep (mins)'] = data['Time before sleep (mins)'].round(0).astype(int)\n",
    "data['Snore time (mins)'] = data['Snore time (mins)'].round(0).astype(int)\n",
    "data['Time in bed (hrs)'] = data['Time in bed (hrs)'].round(1)\n",
    "data['Time asleep (hrs)'] = data['Time asleep (hrs)'].round(1)\n",
    "\n",
    "data['City'].fillna('Jericho', inplace =True)"
   ]
  },
  {
   "cell_type": "markdown",
   "id": "63d508b2-da28-4198-8339-695dd8e49c76",
   "metadata": {},
   "source": [
    "Download Clean Dataset File"
   ]
  },
  {
   "cell_type": "code",
   "execution_count": 113,
   "id": "0bf66c21-cbf8-4428-95f2-abb6cb71a0e8",
   "metadata": {},
   "outputs": [],
   "source": [
    "data.to_csv('clean_sleepdata.csv', index = False)"
   ]
  }
 ],
 "metadata": {
  "kernelspec": {
   "display_name": "anaconda-2024.02-py310",
   "language": "python",
   "name": "conda-env-anaconda-2024.02-py310-py"
  },
  "language_info": {
   "codemirror_mode": {
    "name": "ipython",
    "version": 3
   },
   "file_extension": ".py",
   "mimetype": "text/x-python",
   "name": "python",
   "nbconvert_exporter": "python",
   "pygments_lexer": "ipython3",
   "version": "3.10.14"
  }
 },
 "nbformat": 4,
 "nbformat_minor": 5
}
